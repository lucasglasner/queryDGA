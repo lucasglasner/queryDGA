{
 "cells": [
  {
   "cell_type": "code",
   "execution_count": 43,
   "metadata": {},
   "outputs": [],
   "source": [
    "import pandas as pd\n",
    "import tqdm\n",
    "import numpy as np\n",
    "import json\n",
    "from query import DGA_makerequest\n",
    "from process import process_DGA_QTable, process_DGA_Pr24hTable, process_DGA_PrMaxTable"
   ]
  },
  {
   "cell_type": "markdown",
   "metadata": {},
   "source": [
    "---\n",
    "### Example 1: Download a single year for a single station"
   ]
  },
  {
   "cell_type": "code",
   "execution_count": 39,
   "metadata": {},
   "outputs": [],
   "source": [
    "# Load .json file with cURL data\n",
    "with open('DGA_cURL.json', 'r') as file:\n",
    "    jsondata = json.load(file)\n",
    "cookies = jsondata['cookies']\n",
    "headers = jsondata['headers']\n",
    "data    = jsondata['data']\n",
    "ds_data = pd.Series(data)"
   ]
  },
  {
   "cell_type": "code",
   "execution_count": 40,
   "metadata": {},
   "outputs": [],
   "source": [
    "url     = 'https://snia.mop.gob.cl/BNAConsultas/reportes'\n",
    "outfile = 'tmp/RioAconcaguaEnRomeral_2011.xlsx'\n",
    "\n",
    "# Edit request data with desired year\n",
    "ndata = ds_data.copy()\n",
    "ndata['filtroscirhform:fechaDesdeInputDate'] = f'01/01/2011'\n",
    "ndata['filtroscirhform:fechaHastaInputDate'] = f'31/12/2011'\n",
    "ndata = dict(ndata)"
   ]
  },
  {
   "cell_type": "code",
   "execution_count": 41,
   "metadata": {},
   "outputs": [
    {
     "name": "stdout",
     "output_type": "stream",
     "text": [
      "True\n"
     ]
    }
   ],
   "source": [
    "# Make request and check status\n",
    "value = DGA_makerequest(outfile, url, cookies, headers, ndata)\n",
    "print(value)"
   ]
  },
  {
   "cell_type": "markdown",
   "metadata": {},
   "source": [
    "If the request was succesfull an excel spreadsheet should now exist on the output path"
   ]
  },
  {
   "cell_type": "code",
   "execution_count": 44,
   "metadata": {},
   "outputs": [],
   "source": [
    "# Post process\n",
    "sheet = pd.read_excel('tmp/RioAconcaguaEnRomeral_2011.xlsx')\n",
    "\n",
    "# Since i downloaded runoff data i will use the runoff processing fuction\n",
    "data, metadata = process_DGA_QTable(sheet)"
   ]
  },
  {
   "cell_type": "code",
   "execution_count": 45,
   "metadata": {},
   "outputs": [
    {
     "data": {
      "text/html": [
       "<div>\n",
       "<style scoped>\n",
       "    .dataframe tbody tr th:only-of-type {\n",
       "        vertical-align: middle;\n",
       "    }\n",
       "\n",
       "    .dataframe tbody tr th {\n",
       "        vertical-align: top;\n",
       "    }\n",
       "\n",
       "    .dataframe thead th {\n",
       "        text-align: right;\n",
       "    }\n",
       "</style>\n",
       "<table border=\"1\" class=\"dataframe\">\n",
       "  <thead>\n",
       "    <tr style=\"text-align: right;\">\n",
       "      <th></th>\n",
       "      <th>05423003-6</th>\n",
       "    </tr>\n",
       "  </thead>\n",
       "  <tbody>\n",
       "    <tr>\n",
       "      <th>Cuenca</th>\n",
       "      <td>RIO ACONCAGUA</td>\n",
       "    </tr>\n",
       "    <tr>\n",
       "      <th>SubCuenca</th>\n",
       "      <td>Rio Aconcagua Bajo (Entre despues E Seco y Des...</td>\n",
       "    </tr>\n",
       "    <tr>\n",
       "      <th>Nombre</th>\n",
       "      <td>RIO ACONCAGUA EN ROMERAL</td>\n",
       "    </tr>\n",
       "    <tr>\n",
       "      <th>x</th>\n",
       "      <td>310429</td>\n",
       "    </tr>\n",
       "    <tr>\n",
       "      <th>y</th>\n",
       "      <td>6364620</td>\n",
       "    </tr>\n",
       "    <tr>\n",
       "      <th>lon</th>\n",
       "      <td>71° 01' 32''</td>\n",
       "    </tr>\n",
       "    <tr>\n",
       "      <th>lat</th>\n",
       "      <td>32° 50' 24''</td>\n",
       "    </tr>\n",
       "    <tr>\n",
       "      <th>Altura</th>\n",
       "      <td>365</td>\n",
       "    </tr>\n",
       "  </tbody>\n",
       "</table>\n",
       "</div>"
      ],
      "text/plain": [
       "                                                  05423003-6\n",
       "Cuenca                                         RIO ACONCAGUA\n",
       "SubCuenca  Rio Aconcagua Bajo (Entre despues E Seco y Des...\n",
       "Nombre                              RIO ACONCAGUA EN ROMERAL\n",
       "x                                                     310429\n",
       "y                                                    6364620\n",
       "lon                                             71° 01' 32''\n",
       "lat                                             32° 50' 24''\n",
       "Altura                                                   365"
      ]
     },
     "execution_count": 45,
     "metadata": {},
     "output_type": "execute_result"
    }
   ],
   "source": [
    "# Check results\n",
    "metadata"
   ]
  },
  {
   "cell_type": "code",
   "execution_count": 47,
   "metadata": {},
   "outputs": [
    {
     "data": {
      "text/html": [
       "<div>\n",
       "<style scoped>\n",
       "    .dataframe tbody tr th:only-of-type {\n",
       "        vertical-align: middle;\n",
       "    }\n",
       "\n",
       "    .dataframe tbody tr th {\n",
       "        vertical-align: top;\n",
       "    }\n",
       "\n",
       "    .dataframe thead th {\n",
       "        text-align: right;\n",
       "    }\n",
       "</style>\n",
       "<table border=\"1\" class=\"dataframe\">\n",
       "  <thead>\n",
       "    <tr style=\"text-align: right;\">\n",
       "      <th></th>\n",
       "      <th>q_m3s</th>\n",
       "      <th>h_m</th>\n",
       "    </tr>\n",
       "  </thead>\n",
       "  <tbody>\n",
       "    <tr>\n",
       "      <th>2011-01-01 00:00:00</th>\n",
       "      <td>1.938600</td>\n",
       "      <td>1.74</td>\n",
       "    </tr>\n",
       "    <tr>\n",
       "      <th>2011-01-01 01:00:00</th>\n",
       "      <td>1.938600</td>\n",
       "      <td>1.74</td>\n",
       "    </tr>\n",
       "    <tr>\n",
       "      <th>2011-01-01 02:00:00</th>\n",
       "      <td>1.938600</td>\n",
       "      <td>1.74</td>\n",
       "    </tr>\n",
       "    <tr>\n",
       "      <th>2011-01-01 03:00:00</th>\n",
       "      <td>1.938600</td>\n",
       "      <td>1.74</td>\n",
       "    </tr>\n",
       "    <tr>\n",
       "      <th>2011-01-01 04:00:00</th>\n",
       "      <td>1.938600</td>\n",
       "      <td>1.74</td>\n",
       "    </tr>\n",
       "    <tr>\n",
       "      <th>...</th>\n",
       "      <td>...</td>\n",
       "      <td>...</td>\n",
       "    </tr>\n",
       "    <tr>\n",
       "      <th>2011-12-19 19:00:00</th>\n",
       "      <td>7.010001</td>\n",
       "      <td>1.86</td>\n",
       "    </tr>\n",
       "    <tr>\n",
       "      <th>2011-12-19 20:00:00</th>\n",
       "      <td>5.600002</td>\n",
       "      <td>1.83</td>\n",
       "    </tr>\n",
       "    <tr>\n",
       "      <th>2011-12-19 21:00:00</th>\n",
       "      <td>4.699997</td>\n",
       "      <td>1.81</td>\n",
       "    </tr>\n",
       "    <tr>\n",
       "      <th>2011-12-19 22:00:00</th>\n",
       "      <td>4.249999</td>\n",
       "      <td>1.80</td>\n",
       "    </tr>\n",
       "    <tr>\n",
       "      <th>2011-12-19 23:00:00</th>\n",
       "      <td>3.800000</td>\n",
       "      <td>1.77</td>\n",
       "    </tr>\n",
       "  </tbody>\n",
       "</table>\n",
       "<p>6062 rows × 2 columns</p>\n",
       "</div>"
      ],
      "text/plain": [
       "                        q_m3s   h_m\n",
       "2011-01-01 00:00:00  1.938600  1.74\n",
       "2011-01-01 01:00:00  1.938600  1.74\n",
       "2011-01-01 02:00:00  1.938600  1.74\n",
       "2011-01-01 03:00:00  1.938600  1.74\n",
       "2011-01-01 04:00:00  1.938600  1.74\n",
       "...                       ...   ...\n",
       "2011-12-19 19:00:00  7.010001  1.86\n",
       "2011-12-19 20:00:00  5.600002  1.83\n",
       "2011-12-19 21:00:00  4.699997  1.81\n",
       "2011-12-19 22:00:00  4.249999  1.80\n",
       "2011-12-19 23:00:00  3.800000  1.77\n",
       "\n",
       "[6062 rows x 2 columns]"
      ]
     },
     "execution_count": 47,
     "metadata": {},
     "output_type": "execute_result"
    }
   ],
   "source": [
    "data"
   ]
  },
  {
   "cell_type": "code",
   "execution_count": 53,
   "metadata": {},
   "outputs": [
    {
     "data": {
      "text/plain": [
       "<Axes: >"
      ]
     },
     "execution_count": 53,
     "metadata": {},
     "output_type": "execute_result"
    },
    {
     "data": {
      "image/png": "[encoded data removed]",
      "text/plain": [
       "<Figure size 640x480 with 1 Axes>"
      ]
     },
     "metadata": {},
     "output_type": "display_data"
    }
   ],
   "source": [
    "# Plot data as points\n",
    "data['q_m3s'].plot(lw=0, marker='o', markersize=2)"
   ]
  },
  {
   "cell_type": "markdown",
   "metadata": {},
   "source": [
    "---\n",
    "#### Example 2: Download multiple years for a single station (runoff)"
   ]
  },
  {
   "cell_type": "code",
   "execution_count": 2,
   "metadata": {},
   "outputs": [],
   "source": [
    "# Load .json file with cURL data\n",
    "with open('DGA_cURL.json', 'r') as file:\n",
    "    jsondata = json.load(file)\n",
    "cookies = jsondata['cookies']\n",
    "headers = jsondata['headers']\n",
    "data    = jsondata['data']\n",
    "ds_data = pd.Series(data)"
   ]
  },
  {
   "cell_type": "code",
   "execution_count": 38,
   "metadata": {},
   "outputs": [
    {
     "name": "stderr",
     "output_type": "stream",
     "text": [
      "100%|██████████| 6/6 [01:42<00:00, 17.06s/it]\n"
     ]
    }
   ],
   "source": [
    "# Download runoff from a specific station\n",
    "url     = 'https://snia.mop.gob.cl/BNAConsultas/reportes'\n",
    "years   = np.arange(2010, 2015+1,1) # Download from 2010 to 2015\n",
    "\n",
    "# Loop over years\n",
    "for k,yr in tqdm.tqdm(enumerate(years), total=len(years)):\n",
    "    # Set output file\n",
    "    outputfile = f'tmp/RioAconcaguaEnRomeral_{yr}.xlsx' # <- saved into my tmp directory\n",
    "    \n",
    "    # Copy json data and edit start and end keys\n",
    "    ndata = ds_data.copy()\n",
    "    ndata['filtroscirhform:fechaDesdeInputDate'] = f'01/01/{yr}'\n",
    "    ndata['filtroscirhform:fechaHastaInputDate'] = f'31/12/{yr}'\n",
    "    ndata = dict(ndata)\n",
    "    value = DGA_makerequest(outputfile, url, cookies, headers, ndata)"
   ]
  },
  {
   "cell_type": "code",
   "execution_count": 21,
   "metadata": {},
   "outputs": [
    {
     "name": "stderr",
     "output_type": "stream",
     "text": [
      "100%|██████████| 6/6 [00:01<00:00,  5.95it/s]\n"
     ]
    },
    {
     "data": {
      "text/html": [
       "<div>\n",
       "<style scoped>\n",
       "    .dataframe tbody tr th:only-of-type {\n",
       "        vertical-align: middle;\n",
       "    }\n",
       "\n",
       "    .dataframe tbody tr th {\n",
       "        vertical-align: top;\n",
       "    }\n",
       "\n",
       "    .dataframe thead th {\n",
       "        text-align: right;\n",
       "    }\n",
       "</style>\n",
       "<table border=\"1\" class=\"dataframe\">\n",
       "  <thead>\n",
       "    <tr style=\"text-align: right;\">\n",
       "      <th></th>\n",
       "      <th>05410005-1</th>\n",
       "      <th>05410005-1</th>\n",
       "      <th>05410005-1</th>\n",
       "      <th>05410005-1</th>\n",
       "      <th>05410005-1</th>\n",
       "      <th>05410005-1</th>\n",
       "    </tr>\n",
       "  </thead>\n",
       "  <tbody>\n",
       "    <tr>\n",
       "      <th>Cuenca</th>\n",
       "      <td>RIO ACONCAGUA</td>\n",
       "      <td>RIO ACONCAGUA</td>\n",
       "      <td>RIO ACONCAGUA</td>\n",
       "      <td>RIO ACONCAGUA</td>\n",
       "      <td>RIO ACONCAGUA</td>\n",
       "      <td>RIO ACONCAGUA</td>\n",
       "    </tr>\n",
       "    <tr>\n",
       "      <th>SubCuenca</th>\n",
       "      <td>Rio Aconcagua Medio (Entre Rio Colorado y E Seco)</td>\n",
       "      <td>Rio Aconcagua Medio (Entre Rio Colorado y E Seco)</td>\n",
       "      <td>Rio Aconcagua Medio (Entre Rio Colorado y E Seco)</td>\n",
       "      <td>Rio Aconcagua Medio (Entre Rio Colorado y E Seco)</td>\n",
       "      <td>Rio Aconcagua Medio (Entre Rio Colorado y E Seco)</td>\n",
       "      <td>Rio Aconcagua Medio (Entre Rio Colorado y E Seco)</td>\n",
       "    </tr>\n",
       "    <tr>\n",
       "      <th>Nombre</th>\n",
       "      <td>RIO ACONCAGUA EN SAN FELIPE</td>\n",
       "      <td>RIO ACONCAGUA EN SAN FELIPE</td>\n",
       "      <td>RIO ACONCAGUA EN SAN FELIPE</td>\n",
       "      <td>RIO ACONCAGUA EN SAN FELIPE</td>\n",
       "      <td>RIO ACONCAGUA EN SAN FELIPE</td>\n",
       "      <td>RIO ACONCAGUA EN SAN FELIPE</td>\n",
       "    </tr>\n",
       "    <tr>\n",
       "      <th>x</th>\n",
       "      <td>337335</td>\n",
       "      <td>337335</td>\n",
       "      <td>337335</td>\n",
       "      <td>337335</td>\n",
       "      <td>337335</td>\n",
       "      <td>337335</td>\n",
       "    </tr>\n",
       "    <tr>\n",
       "      <th>y</th>\n",
       "      <td>6374251</td>\n",
       "      <td>6374251</td>\n",
       "      <td>6374251</td>\n",
       "      <td>6374251</td>\n",
       "      <td>6374251</td>\n",
       "      <td>6374251</td>\n",
       "    </tr>\n",
       "    <tr>\n",
       "      <th>lon</th>\n",
       "      <td>70° 44' 11''</td>\n",
       "      <td>70° 44' 11''</td>\n",
       "      <td>70° 44' 11''</td>\n",
       "      <td>70° 44' 11''</td>\n",
       "      <td>70° 44' 11''</td>\n",
       "      <td>70° 44' 11''</td>\n",
       "    </tr>\n",
       "    <tr>\n",
       "      <th>lat</th>\n",
       "      <td>32° 45' 27''</td>\n",
       "      <td>32° 45' 27''</td>\n",
       "      <td>32° 45' 27''</td>\n",
       "      <td>32° 45' 27''</td>\n",
       "      <td>32° 45' 27''</td>\n",
       "      <td>32° 45' 27''</td>\n",
       "    </tr>\n",
       "    <tr>\n",
       "      <th>Altura</th>\n",
       "      <td>650</td>\n",
       "      <td>650</td>\n",
       "      <td>650</td>\n",
       "      <td>650</td>\n",
       "      <td>650</td>\n",
       "      <td>650</td>\n",
       "    </tr>\n",
       "  </tbody>\n",
       "</table>\n",
       "</div>"
      ],
      "text/plain": [
       "                                                  05410005-1  \\\n",
       "Cuenca                                         RIO ACONCAGUA   \n",
       "SubCuenca  Rio Aconcagua Medio (Entre Rio Colorado y E Seco)   \n",
       "Nombre                           RIO ACONCAGUA EN SAN FELIPE   \n",
       "x                                                     337335   \n",
       "y                                                    6374251   \n",
       "lon                                             70° 44' 11''   \n",
       "lat                                             32° 45' 27''   \n",
       "Altura                                                   650   \n",
       "\n",
       "                                                  05410005-1  \\\n",
       "Cuenca                                         RIO ACONCAGUA   \n",
       "SubCuenca  Rio Aconcagua Medio (Entre Rio Colorado y E Seco)   \n",
       "Nombre                           RIO ACONCAGUA EN SAN FELIPE   \n",
       "x                                                     337335   \n",
       "y                                                    6374251   \n",
       "lon                                             70° 44' 11''   \n",
       "lat                                             32° 45' 27''   \n",
       "Altura                                                   650   \n",
       "\n",
       "                                                  05410005-1  \\\n",
       "Cuenca                                         RIO ACONCAGUA   \n",
       "SubCuenca  Rio Aconcagua Medio (Entre Rio Colorado y E Seco)   \n",
       "Nombre                           RIO ACONCAGUA EN SAN FELIPE   \n",
       "x                                                     337335   \n",
       "y                                                    6374251   \n",
       "lon                                             70° 44' 11''   \n",
       "lat                                             32° 45' 27''   \n",
       "Altura                                                   650   \n",
       "\n",
       "                                                  05410005-1  \\\n",
       "Cuenca                                         RIO ACONCAGUA   \n",
       "SubCuenca  Rio Aconcagua Medio (Entre Rio Colorado y E Seco)   \n",
       "Nombre                           RIO ACONCAGUA EN SAN FELIPE   \n",
       "x                                                     337335   \n",
       "y                                                    6374251   \n",
       "lon                                             70° 44' 11''   \n",
       "lat                                             32° 45' 27''   \n",
       "Altura                                                   650   \n",
       "\n",
       "                                                  05410005-1  \\\n",
       "Cuenca                                         RIO ACONCAGUA   \n",
       "SubCuenca  Rio Aconcagua Medio (Entre Rio Colorado y E Seco)   \n",
       "Nombre                           RIO ACONCAGUA EN SAN FELIPE   \n",
       "x                                                     337335   \n",
       "y                                                    6374251   \n",
       "lon                                             70° 44' 11''   \n",
       "lat                                             32° 45' 27''   \n",
       "Altura                                                   650   \n",
       "\n",
       "                                                  05410005-1  \n",
       "Cuenca                                         RIO ACONCAGUA  \n",
       "SubCuenca  Rio Aconcagua Medio (Entre Rio Colorado y E Seco)  \n",
       "Nombre                           RIO ACONCAGUA EN SAN FELIPE  \n",
       "x                                                     337335  \n",
       "y                                                    6374251  \n",
       "lon                                             70° 44' 11''  \n",
       "lat                                             32° 45' 27''  \n",
       "Altura                                                   650  "
      ]
     },
     "execution_count": 21,
     "metadata": {},
     "output_type": "execute_result"
    }
   ],
   "source": [
    "# Postprocess runoff data\n",
    "\n",
    "qgauges         = []\n",
    "metadata_gauges = []\n",
    "# Loop over years\n",
    "for k,yr in tqdm.tqdm(enumerate(years), total=len(years)):\n",
    "    spreadsheet = f'tmp/RioAconcaguaEnRomeral_{yr}.xlsx' \n",
    "    sheet           = pd.read_excel(spreadsheet)\n",
    "    data, mdata  = process_DGA_QTable(sheet) \n",
    "    qgauges.append(data['q_m3s'])\n",
    "    metadata_gauges.append(mdata)\n",
    "    \n",
    "# Concat data for each year into a single array\n",
    "metadata_gauges = pd.concat(metadata_gauges, axis=1)\n",
    "qgauges         = pd.concat(qgauges, axis=1)\n",
    "qgauges.columns = metadata_gauges.columns\n",
    "    \n",
    "metadata_gauges"
   ]
  },
  {
   "cell_type": "code",
   "execution_count": 22,
   "metadata": {},
   "outputs": [
    {
     "data": {
      "text/html": [
       "<div>\n",
       "<style scoped>\n",
       "    .dataframe tbody tr th:only-of-type {\n",
       "        vertical-align: middle;\n",
       "    }\n",
       "\n",
       "    .dataframe tbody tr th {\n",
       "        vertical-align: top;\n",
       "    }\n",
       "\n",
       "    .dataframe thead th {\n",
       "        text-align: right;\n",
       "    }\n",
       "</style>\n",
       "<table border=\"1\" class=\"dataframe\">\n",
       "  <thead>\n",
       "    <tr style=\"text-align: right;\">\n",
       "      <th></th>\n",
       "      <th>05410005-1</th>\n",
       "      <th>05410005-1</th>\n",
       "      <th>05410005-1</th>\n",
       "      <th>05410005-1</th>\n",
       "      <th>05410005-1</th>\n",
       "      <th>05410005-1</th>\n",
       "    </tr>\n",
       "  </thead>\n",
       "  <tbody>\n",
       "    <tr>\n",
       "      <th>2010-11-02 00:19:00</th>\n",
       "      <td>0.8394</td>\n",
       "      <td>NaN</td>\n",
       "      <td>NaN</td>\n",
       "      <td>NaN</td>\n",
       "      <td>NaN</td>\n",
       "      <td>NaN</td>\n",
       "    </tr>\n",
       "    <tr>\n",
       "      <th>2010-11-02 01:19:00</th>\n",
       "      <td>0.8718</td>\n",
       "      <td>NaN</td>\n",
       "      <td>NaN</td>\n",
       "      <td>NaN</td>\n",
       "      <td>NaN</td>\n",
       "      <td>NaN</td>\n",
       "    </tr>\n",
       "    <tr>\n",
       "      <th>2010-11-02 02:19:00</th>\n",
       "      <td>0.8718</td>\n",
       "      <td>NaN</td>\n",
       "      <td>NaN</td>\n",
       "      <td>NaN</td>\n",
       "      <td>NaN</td>\n",
       "      <td>NaN</td>\n",
       "    </tr>\n",
       "    <tr>\n",
       "      <th>2010-11-02 03:19:00</th>\n",
       "      <td>0.9042</td>\n",
       "      <td>NaN</td>\n",
       "      <td>NaN</td>\n",
       "      <td>NaN</td>\n",
       "      <td>NaN</td>\n",
       "      <td>NaN</td>\n",
       "    </tr>\n",
       "    <tr>\n",
       "      <th>2010-11-02 04:19:00</th>\n",
       "      <td>0.9042</td>\n",
       "      <td>NaN</td>\n",
       "      <td>NaN</td>\n",
       "      <td>NaN</td>\n",
       "      <td>NaN</td>\n",
       "      <td>NaN</td>\n",
       "    </tr>\n",
       "    <tr>\n",
       "      <th>...</th>\n",
       "      <td>...</td>\n",
       "      <td>...</td>\n",
       "      <td>...</td>\n",
       "      <td>...</td>\n",
       "      <td>...</td>\n",
       "      <td>...</td>\n",
       "    </tr>\n",
       "    <tr>\n",
       "      <th>2015-12-31 19:54:00</th>\n",
       "      <td>NaN</td>\n",
       "      <td>NaN</td>\n",
       "      <td>NaN</td>\n",
       "      <td>NaN</td>\n",
       "      <td>NaN</td>\n",
       "      <td>64.59430</td>\n",
       "    </tr>\n",
       "    <tr>\n",
       "      <th>2015-12-31 20:54:00</th>\n",
       "      <td>NaN</td>\n",
       "      <td>NaN</td>\n",
       "      <td>NaN</td>\n",
       "      <td>NaN</td>\n",
       "      <td>NaN</td>\n",
       "      <td>59.24808</td>\n",
       "    </tr>\n",
       "    <tr>\n",
       "      <th>2015-12-31 21:54:00</th>\n",
       "      <td>NaN</td>\n",
       "      <td>NaN</td>\n",
       "      <td>NaN</td>\n",
       "      <td>NaN</td>\n",
       "      <td>NaN</td>\n",
       "      <td>61.85488</td>\n",
       "    </tr>\n",
       "    <tr>\n",
       "      <th>2015-12-31 22:54:00</th>\n",
       "      <td>NaN</td>\n",
       "      <td>NaN</td>\n",
       "      <td>NaN</td>\n",
       "      <td>NaN</td>\n",
       "      <td>NaN</td>\n",
       "      <td>61.85488</td>\n",
       "    </tr>\n",
       "    <tr>\n",
       "      <th>2015-12-31 23:54:00</th>\n",
       "      <td>NaN</td>\n",
       "      <td>NaN</td>\n",
       "      <td>NaN</td>\n",
       "      <td>NaN</td>\n",
       "      <td>NaN</td>\n",
       "      <td>68.39620</td>\n",
       "    </tr>\n",
       "  </tbody>\n",
       "</table>\n",
       "<p>30109 rows × 6 columns</p>\n",
       "</div>"
      ],
      "text/plain": [
       "                     05410005-1  05410005-1  05410005-1  05410005-1  \\\n",
       "2010-11-02 00:19:00      0.8394         NaN         NaN         NaN   \n",
       "2010-11-02 01:19:00      0.8718         NaN         NaN         NaN   \n",
       "2010-11-02 02:19:00      0.8718         NaN         NaN         NaN   \n",
       "2010-11-02 03:19:00      0.9042         NaN         NaN         NaN   \n",
       "2010-11-02 04:19:00      0.9042         NaN         NaN         NaN   \n",
       "...                         ...         ...         ...         ...   \n",
       "2015-12-31 19:54:00         NaN         NaN         NaN         NaN   \n",
       "2015-12-31 20:54:00         NaN         NaN         NaN         NaN   \n",
       "2015-12-31 21:54:00         NaN         NaN         NaN         NaN   \n",
       "2015-12-31 22:54:00         NaN         NaN         NaN         NaN   \n",
       "2015-12-31 23:54:00         NaN         NaN         NaN         NaN   \n",
       "\n",
       "                     05410005-1  05410005-1  \n",
       "2010-11-02 00:19:00         NaN         NaN  \n",
       "2010-11-02 01:19:00         NaN         NaN  \n",
       "2010-11-02 02:19:00         NaN         NaN  \n",
       "2010-11-02 03:19:00         NaN         NaN  \n",
       "2010-11-02 04:19:00         NaN         NaN  \n",
       "...                         ...         ...  \n",
       "2015-12-31 19:54:00         NaN    64.59430  \n",
       "2015-12-31 20:54:00         NaN    59.24808  \n",
       "2015-12-31 21:54:00         NaN    61.85488  \n",
       "2015-12-31 22:54:00         NaN    61.85488  \n",
       "2015-12-31 23:54:00         NaN    68.39620  \n",
       "\n",
       "[30109 rows x 6 columns]"
      ]
     },
     "execution_count": 22,
     "metadata": {},
     "output_type": "execute_result"
    }
   ],
   "source": [
    "qgauges"
   ]
  },
  {
   "cell_type": "markdown",
   "metadata": {},
   "source": [
    "---\n",
    "\n",
    "#### Example 3: Download multiple stations for multiple years (only works for a single region)\n",
    "\n",
    "On this example im downloading annual maximum precipitation for multiple stations in the 5th region. \n",
    "To loop over stations is import to know the webpage station id, which can be found in the cURL request (json file) like follows:\n",
    "\n",
    "\n",
    "```text\n",
    "    \"data\": {\n",
    "        \"filtroscirhform\": \"filtroscirhform\",\n",
    "        \"filtroscirhform:regionFieldSetId-value\": \"true\",\n",
    "        \"filtroscirhform:j_idt30-value\": \"filtroscirhform:j_idt45\",\n",
    "        \"filtroscirhform:j_idt59\": \"on\",\n",
    "        \"filtroscirhform:panelFiltroEstaciones-value\": \"true\",\n",
    "        \"filtroscirhform:region\": \"5\",  <------------------------ USER SELECTED REGION IN THE WEBPAGE (NOT LOOPABLE)\n",
    "        \"filtroscirhform:selectBusqForEstacion\": \"1\",\n",
    "        \"filtroscirhform:cuenca\": \"-1\",\n",
    "        \"filtroscirhform:estacion\": \"\",\n",
    "        \"g-recaptcha-response\": \"\",\n",
    "        \"filtroscirhform:j_idt100-value\": \"true\",\n",
    "        \"filtroscirhform:j_idt181\": \"on\",           <------------------------ STATION ID (LOOPABLE)\n",
    "        \"filtroscirhform:j_idt102-value\": \"true\",\n",
    "        \"filtroscirhform:fechaDesdeInputDate\": \"01/01/1990\",     <------------------------ START DATE (LOOPABLE)\n",
    "        \"filtroscirhform:fechaDesdeInputCurrentDate\": \"01/2011\", \n",
    "        \"filtroscirhform:fechaHastaInputDate\": \"31/12/2010\",\n",
    "        \"filtroscirhform:fechaHastaInputCurrentDate\": \"12/2011\",     <------------------------ END DATE (LOOPABLE)\n",
    "        \"filtroscirhform:generarxls\": \"Generar XLS\",\n",
    "        \"javax.faces.ViewState\": \"-1017629065942579622:-7489475727910640494\"\n",
    "    }\n",
    "}\n",
    "```\n",
    "\n"
   ]
  },
  {
   "cell_type": "code",
   "execution_count": 56,
   "metadata": {},
   "outputs": [],
   "source": [
    "# Load .json file with cURL data\n",
    "with open('DGA_cURL.json', 'r') as file:\n",
    "    jsondata = json.load(file)\n",
    "cookies = jsondata['cookies']\n",
    "headers = jsondata['headers']\n",
    "data    = jsondata['data']\n",
    "ds_data = pd.Series(data)\n",
    "\n",
    "# Change the ID key name for future looping\n",
    "ds_data = ds_data.rename({'filtroscirhform:j_idt181':'XXX'}) # <--- Change idt181 for the id of the station you downloaded."
   ]
  },
  {
   "cell_type": "code",
   "execution_count": 116,
   "metadata": {},
   "outputs": [
    {
     "name": "stderr",
     "output_type": "stream",
     "text": [
      "100%|██████████| 3/3 [00:04<00:00,  1.45s/it]\n"
     ]
    }
   ],
   "source": [
    "url     = 'https://snia.mop.gob.cl/BNAConsultas/reportes'\n",
    "ids     = np.arange(181,191+5,5)      # webpage ids follow the succession id_n = id_{n-1}+5\n",
    "# Loop over years\n",
    "for j,sid in tqdm.tqdm(enumerate(ids), total=len(ids)):\n",
    "    ofile = f'tmp/PMax_idt{sid}.xls'\n",
    "    \n",
    "    ndata = ds_data.copy()\n",
    "    ndata = ndata.rename({'XXX':f'filtroscirhform:j_idt{sid}'})          # Edit ID key\n",
    "    ndata['filtroscirhform:fechaDesdeInputDate'] = f'01/01/1990'         # Edit starting year\n",
    "    ndata['filtroscirhform:fechaHastaInputDate'] = f'31/12/{1990+39}'    # Edit ending year\n",
    "    ndata = dict(ndata)\n",
    "    value = DGA_makerequest(ofile, url, cookies, headers, ndata)    # Request"
   ]
  },
  {
   "cell_type": "code",
   "execution_count": 117,
   "metadata": {},
   "outputs": [
    {
     "name": "stderr",
     "output_type": "stream",
     "text": [
      "100%|██████████| 3/3 [00:00<00:00, 90.79it/s]\n"
     ]
    }
   ],
   "source": [
    "# Postprocess\n",
    "\n",
    "pgauge = []\n",
    "pmeta  = []\n",
    "for j,sid in tqdm.tqdm(enumerate(ids), total=len(ids)):\n",
    "    ofile = f'tmp/PMax_idt{sid}.xls'\n",
    "    try:\n",
    "        sheet = pd.read_excel(ofile)\n",
    "        data, mdata = process_DGA_PrMaxTable(sheet)\n",
    "        pgauge.append(data)\n",
    "        pmeta.append(mdata)\n",
    "    except:\n",
    "        pass\n",
    "pgauge = pd.concat(pgauge, axis=0).drop_duplicates()\n",
    "pmeta  = pd.concat(pmeta, axis=1).T.drop_duplicates().T"
   ]
  },
  {
   "cell_type": "code",
   "execution_count": 125,
   "metadata": {},
   "outputs": [
    {
     "data": {
      "text/plain": [
       "<Axes: >"
      ]
     },
     "execution_count": 125,
     "metadata": {},
     "output_type": "execute_result"
    },
    {
     "data": {
      "image/png": "[encoded data removed]",
      "text/plain": [
       "<Figure size 640x480 with 1 Axes>"
      ]
     },
     "metadata": {},
     "output_type": "display_data"
    }
   ],
   "source": [
    "# Check\n",
    "pgauge.plot()"
   ]
  }
 ],
 "metadata": {
  "kernelspec": {
   "display_name": "river",
   "language": "python",
   "name": "python3"
  },
  "language_info": {
   "codemirror_mode": {
    "name": "ipython",
    "version": 3
   },
   "file_extension": ".py",
   "mimetype": "text/x-python",
   "name": "python",
   "nbconvert_exporter": "python",
   "pygments_lexer": "ipython3",
   "version": "3.12.3"
  }
 },
 "nbformat": 4,
 "nbformat_minor": 2
}
