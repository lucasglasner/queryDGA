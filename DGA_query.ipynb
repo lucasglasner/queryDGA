{
 "cells": [
  {
   "cell_type": "code",
   "execution_count": 8,
   "metadata": {},
   "outputs": [],
   "source": [
    "import os\n",
    "import sys\n",
    "import pandas as pd\n",
    "import requests\n",
    "import time\n",
    "import tqdm\n",
    "import numpy as np\n",
    "import json\n",
    "from query import *"
   ]
  },
  {
   "cell_type": "code",
   "execution_count": 13,
   "metadata": {},
   "outputs": [
    {
     "data": {
      "text/plain": [
       "filtroscirhform                                                                  filtroscirhform\n",
       "filtroscirhform:regionFieldSetId-value                                                      true\n",
       "filtroscirhform:j_idt30-value                                            filtroscirhform:j_idt35\n",
       "filtroscirhform:j_idt40                                                                       on\n",
       "filtroscirhform:panelFiltroEstaciones-value                                                 true\n",
       "filtroscirhform:region                                                                         5\n",
       "filtroscirhform:selectBusqForEstacion                                                          1\n",
       "filtroscirhform:cuenca                                                                        -1\n",
       "filtroscirhform:estacion                                                                        \n",
       "g-recaptcha-response                           03AFcWeA56zbaH31i8JB7btcbWSDvzr4ynhEcD-jbVvEIm...\n",
       "filtroscirhform:j_idt100-value                                                              true\n",
       "filtroscirhform:j_idt416                                                                      on\n",
       "filtroscirhform:j_idt102-value                                                              true\n",
       "filtroscirhform:fechaDesdeInputDate                                                   10/10/1995\n",
       "filtroscirhform:fechaDesdeInputCurrentDate                                               06/2024\n",
       "filtroscirhform:fechaHastaInputDate                                                   10/11/1995\n",
       "filtroscirhform:fechaHastaInputCurrentDate                                               06/2024\n",
       "filtroscirhform:generarxls                                                           Generar XLS\n",
       "javax.faces.ViewState                                   -3211668912581163705:3287580506365806890\n",
       "dtype: object"
      ]
     },
     "execution_count": 13,
     "metadata": {},
     "output_type": "execute_result"
    }
   ],
   "source": [
    "# Load .json file\n",
    "with open('DGA_cURL.json', 'r') as file:\n",
    "    jsondata = json.load(file)\n",
    "cookies = jsondata['cookies']\n",
    "headers = jsondata['headers']\n",
    "data    = jsondata['data']\n",
    "\n",
    "# Edit json file with the download id to a random key (for looping along ids/stations)\n",
    "ds_data = pd.Series(data)\n",
    "# ds_data = ds_data.rename({'filtroscirhform:j_idt177':'XXX'}) # <--- Change idt177 for the id of the station you downloaded.\n",
    "ds_data"
   ]
  },
  {
   "cell_type": "code",
   "execution_count": 14,
   "metadata": {},
   "outputs": [
    {
     "name": "stderr",
     "output_type": "stream",
     "text": [
      "100%|██████████| 75/75 [13:22<00:00, 10.69s/it]\n"
     ]
    }
   ],
   "source": [
    "# Download runoff from a specific station\n",
    "\n",
    "url     = 'https://snia.mop.gob.cl/BNAConsultas/reportes'\n",
    "years   = np.arange(1950, 2025,1)\n",
    "\n",
    "variable = 'AlturayCaudalInstantaneo'\n",
    "fpreffix = 'Qmax' \n",
    "errors   = []\n",
    "corrupts = []\n",
    "\n",
    "\n",
    "# Set station ID, Chile Political reigon and loop over years\n",
    "id     = 416\n",
    "region = 5\n",
    "for k,yr in tqdm.tqdm(enumerate(years), total=len(years)):\n",
    "    ofile = f'tmp/{fpreffix}_{region}Region_idt{id}_{yr}.xls'\n",
    "    if os.path.isfile(ofile):\n",
    "        pass\n",
    "    else:\n",
    "        \n",
    "        ndata = ds_data.copy()\n",
    "        ndata = ndata.rename({'XXX':f'filtroscirhform:j_idt{id}'})\n",
    "        ndata['filtroscirhform:region'] = region\n",
    "        ndata['filtroscirhform:fechaDesdeInputDate'] = f'01/01/{yr}'\n",
    "        ndata['filtroscirhform:fechaHastaInputDate'] = f'31/12/{yr}'\n",
    "        ndata = dict(ndata)\n",
    "        try:\n",
    "            value = DGA_makerequest(ofile, url, cookies, headers, ndata)\n",
    "            if value == False:\n",
    "                corrupts.append((region, id, yr))\n",
    "        except Exception as e:\n",
    "            print('ERROR:', e)\n",
    "            errors.append((region, id, yr))"
   ]
  },
  {
   "cell_type": "code",
   "execution_count": 13,
   "metadata": {},
   "outputs": [
    {
     "name": "stderr",
     "output_type": "stream",
     "text": [
      "  2%|▏         | 2/91 [00:11<08:32,  5.75s/it]"
     ]
    },
    {
     "name": "stdout",
     "output_type": "stream",
     "text": [
      "Request ended with: 502 Trying again...\n"
     ]
    },
    {
     "name": "stderr",
     "output_type": "stream",
     "text": [
      " 21%|██        | 19/91 [01:59<08:05,  6.75s/it]"
     ]
    },
    {
     "name": "stdout",
     "output_type": "stream",
     "text": [
      "Request ended with: 502 Trying again...\n"
     ]
    },
    {
     "name": "stderr",
     "output_type": "stream",
     "text": [
      " 40%|███▉      | 36/91 [06:06<05:36,  6.12s/it]"
     ]
    },
    {
     "name": "stdout",
     "output_type": "stream",
     "text": [
      "Request ended with: 502 Trying again...\n"
     ]
    },
    {
     "name": "stderr",
     "output_type": "stream",
     "text": [
      " 43%|████▎     | 39/91 [06:30<06:03,  6.99s/it]"
     ]
    },
    {
     "name": "stdout",
     "output_type": "stream",
     "text": [
      "Request ended with: 502 Trying again...\n"
     ]
    },
    {
     "name": "stderr",
     "output_type": "stream",
     "text": [
      " 48%|████▊     | 44/91 [07:02<04:52,  6.23s/it]"
     ]
    },
    {
     "name": "stdout",
     "output_type": "stream",
     "text": [
      "Request ended with: 502 Trying again...\n"
     ]
    },
    {
     "name": "stderr",
     "output_type": "stream",
     "text": [
      " 53%|█████▎    | 48/91 [07:29<04:31,  6.32s/it]"
     ]
    },
    {
     "name": "stdout",
     "output_type": "stream",
     "text": [
      "Request ended with: 502 Trying again...\n"
     ]
    },
    {
     "name": "stderr",
     "output_type": "stream",
     "text": [
      " 87%|████████▋ | 79/91 [10:23<01:08,  5.72s/it]"
     ]
    },
    {
     "name": "stdout",
     "output_type": "stream",
     "text": [
      "Request ended with: 502 Trying again...\n"
     ]
    },
    {
     "name": "stderr",
     "output_type": "stream",
     "text": [
      " 89%|████████▉ | 81/91 [10:39<01:08,  6.81s/it]"
     ]
    },
    {
     "name": "stdout",
     "output_type": "stream",
     "text": [
      "Request ended with: 502 Trying again...\n"
     ]
    },
    {
     "name": "stderr",
     "output_type": "stream",
     "text": [
      "100%|██████████| 91/91 [11:35<00:00,  7.65s/it]\n"
     ]
    }
   ],
   "source": [
    "# Download anual-max precipitation for multiple stations\n",
    "\n",
    "url = 'https://snia.mop.gob.cl/BNAConsultas/reportes'\n",
    "ids     = np.arange(181,630,5)\n",
    "ids     = np.hstack([177, ids])\n",
    "\n",
    "\n",
    "variable = 'PrecipitacionesMaximasEn24Horas'\n",
    "fpreffix = 'PrecipMax' \n",
    "errors   = []\n",
    "corrupts = []\n",
    "\n",
    "# Set region and loop\n",
    "region = 12\n",
    "\n",
    "# Loop over stations\n",
    "for j,id in tqdm.tqdm(enumerate(ids), total=len(ids)):\n",
    "    #Loop over years\n",
    "    for k,yr in enumerate([1910,1950,1990]):\n",
    "        ofile = f'tmp/{fpreffix}_{region}Region_idt{id}_{yr}.xls'\n",
    "        if os.path.isfile(ofile):\n",
    "            pass\n",
    "        else:\n",
    "            \n",
    "            ndata = ds_data.copy()\n",
    "            ndata = ndata.rename({'XXX':f'filtroscirhform:j_idt{id}'})\n",
    "            ndata['filtroscirhform:region'] = region\n",
    "            ndata['filtroscirhform:fechaDesdeInputDate'] = f'01/01/{yr}'\n",
    "            ndata['filtroscirhform:fechaHastaInputDate'] = f'31/12/{yr+39}'\n",
    "            ndata = dict(ndata)\n",
    "            try:\n",
    "                value = DGA_makerequest(ofile, url, cookies, headers, ndata)\n",
    "                if value == False:\n",
    "                    corrupts.append((region, id, yr))\n",
    "            except Exception as e:\n",
    "                print('ERROR:', e)\n",
    "                errors.append((region, id, yr))"
   ]
  },
  {
   "cell_type": "code",
   "execution_count": 27,
   "metadata": {},
   "outputs": [
    {
     "name": "stderr",
     "output_type": "stream",
     "text": [
      "  0%|          | 0/91 [00:00<?, ?it/s]"
     ]
    },
    {
     "name": "stdout",
     "output_type": "stream",
     "text": [
      "Request ended with: 502 Trying again...\n"
     ]
    },
    {
     "name": "stderr",
     "output_type": "stream",
     "text": [
      "  9%|▉         | 8/91 [05:16<53:26, 38.63s/it]  "
     ]
    },
    {
     "name": "stdout",
     "output_type": "stream",
     "text": [
      "Request ended with: 502 Trying again...\n"
     ]
    },
    {
     "name": "stderr",
     "output_type": "stream",
     "text": [
      " 10%|▉         | 9/91 [06:10<59:15, 43.36s/it]"
     ]
    },
    {
     "name": "stdout",
     "output_type": "stream",
     "text": [
      "Request ended with: 502 Trying again...\n"
     ]
    },
    {
     "name": "stderr",
     "output_type": "stream",
     "text": [
      " 11%|█         | 10/91 [06:53<58:42, 43.49s/it]"
     ]
    },
    {
     "name": "stdout",
     "output_type": "stream",
     "text": [
      "Request ended with: 502 Trying again...\n"
     ]
    },
    {
     "name": "stderr",
     "output_type": "stream",
     "text": [
      " 12%|█▏        | 11/91 [07:20<51:10, 38.38s/it]"
     ]
    },
    {
     "name": "stdout",
     "output_type": "stream",
     "text": [
      "Request ended with: 502 Trying again...\n",
      "Request ended with: 502 Trying again...\n"
     ]
    },
    {
     "name": "stderr",
     "output_type": "stream",
     "text": [
      " 13%|█▎        | 12/91 [08:43<1:08:11, 51.79s/it]"
     ]
    },
    {
     "name": "stdout",
     "output_type": "stream",
     "text": [
      "Request ended with: 502 Trying again...\n"
     ]
    },
    {
     "name": "stderr",
     "output_type": "stream",
     "text": [
      " 14%|█▍        | 13/91 [10:03<1:18:20, 60.26s/it]"
     ]
    },
    {
     "name": "stdout",
     "output_type": "stream",
     "text": [
      "Request ended with: 502 Trying again...\n"
     ]
    },
    {
     "name": "stderr",
     "output_type": "stream",
     "text": [
      " 19%|█▊        | 17/91 [13:13<58:47, 47.67s/it]  "
     ]
    },
    {
     "name": "stdout",
     "output_type": "stream",
     "text": [
      "Request ended with: 502 Trying again...\n",
      "Request ended with: 502 Trying again...\n"
     ]
    },
    {
     "name": "stderr",
     "output_type": "stream",
     "text": [
      " 20%|█▉        | 18/91 [14:20<1:05:04, 53.48s/it]"
     ]
    },
    {
     "name": "stdout",
     "output_type": "stream",
     "text": [
      "Request ended with: 502 Trying again...\n"
     ]
    },
    {
     "name": "stderr",
     "output_type": "stream",
     "text": [
      " 22%|██▏       | 20/91 [15:51<57:26, 48.54s/it]  "
     ]
    },
    {
     "name": "stdout",
     "output_type": "stream",
     "text": [
      "Request ended with: 502 Trying again...\n",
      "Request ended with: 502 Trying again...\n"
     ]
    },
    {
     "name": "stderr",
     "output_type": "stream",
     "text": [
      " 23%|██▎       | 21/91 [17:14<1:08:26, 58.67s/it]"
     ]
    },
    {
     "name": "stdout",
     "output_type": "stream",
     "text": [
      "Request ended with: 502 Trying again...\n",
      "Request ended with: 502 Trying again...\n"
     ]
    },
    {
     "name": "stderr",
     "output_type": "stream",
     "text": [
      " 24%|██▍       | 22/91 [18:48<1:19:49, 69.41s/it]"
     ]
    },
    {
     "name": "stdout",
     "output_type": "stream",
     "text": [
      "ERROR: HTTPSConnectionPool(host='snia.mop.gob.cl', port=443): Max retries exceeded with url: /BNAConsultas/reportes (Caused by NameResolutionError(\"<urllib3.connection.HTTPSConnection object at 0x7fc596966210>: Failed to resolve 'snia.mop.gob.cl' ([Errno -3] Temporary failure in name resolution)\"))\n",
      "Request ended with: 502 Trying again...\n"
     ]
    },
    {
     "name": "stderr",
     "output_type": "stream",
     "text": [
      " 27%|██▋       | 25/91 [23:11<1:27:59, 79.99s/it]"
     ]
    },
    {
     "name": "stdout",
     "output_type": "stream",
     "text": [
      "Request ended with: 502 Trying again...\n"
     ]
    },
    {
     "name": "stderr",
     "output_type": "stream",
     "text": [
      " 31%|███       | 28/91 [27:14<1:24:02, 80.05s/it]"
     ]
    },
    {
     "name": "stdout",
     "output_type": "stream",
     "text": [
      "Request ended with: 502 Trying again...\n",
      "Request ended with: 502 Trying again...\n"
     ]
    },
    {
     "name": "stderr",
     "output_type": "stream",
     "text": [
      " 34%|███▍      | 31/91 [32:17<1:38:29, 98.50s/it]"
     ]
    },
    {
     "name": "stdout",
     "output_type": "stream",
     "text": [
      "Request ended with: 502 Trying again...\n",
      "Request ended with: 502 Trying again...\n"
     ]
    },
    {
     "name": "stderr",
     "output_type": "stream",
     "text": [
      " 38%|███▊      | 35/91 [37:50<1:20:40, 86.44s/it]"
     ]
    },
    {
     "name": "stdout",
     "output_type": "stream",
     "text": [
      "Request ended with: 502 Trying again...\n"
     ]
    },
    {
     "name": "stderr",
     "output_type": "stream",
     "text": [
      " 40%|███▉      | 36/91 [39:19<1:19:46, 87.02s/it]"
     ]
    },
    {
     "name": "stdout",
     "output_type": "stream",
     "text": [
      "Request ended with: 502 Trying again...\n"
     ]
    },
    {
     "name": "stderr",
     "output_type": "stream",
     "text": [
      " 41%|████      | 37/91 [40:49<1:19:18, 88.12s/it]"
     ]
    },
    {
     "name": "stdout",
     "output_type": "stream",
     "text": [
      "Request ended with: 502 Trying again...\n"
     ]
    },
    {
     "name": "stderr",
     "output_type": "stream",
     "text": [
      " 42%|████▏     | 38/91 [42:13<1:16:34, 86.69s/it]"
     ]
    },
    {
     "name": "stdout",
     "output_type": "stream",
     "text": [
      "Request ended with: 502 Trying again...\n",
      "Request ended with: 502 Trying again...\n"
     ]
    },
    {
     "name": "stderr",
     "output_type": "stream",
     "text": [
      " 44%|████▍     | 40/91 [45:00<1:11:54, 84.60s/it]"
     ]
    },
    {
     "name": "stdout",
     "output_type": "stream",
     "text": [
      "Request ended with: 502 Trying again...\n"
     ]
    },
    {
     "name": "stderr",
     "output_type": "stream",
     "text": [
      " 48%|████▊     | 44/91 [50:28<1:03:58, 81.66s/it]"
     ]
    },
    {
     "name": "stdout",
     "output_type": "stream",
     "text": [
      "Request ended with: 502 Trying again...\n"
     ]
    },
    {
     "name": "stderr",
     "output_type": "stream",
     "text": [
      " 52%|█████▏    | 47/91 [54:20<57:11, 77.99s/it]  "
     ]
    },
    {
     "name": "stdout",
     "output_type": "stream",
     "text": [
      "Request ended with: 502 Trying again...\n"
     ]
    },
    {
     "name": "stderr",
     "output_type": "stream",
     "text": [
      " 53%|█████▎    | 48/91 [55:38<55:58, 78.11s/it]"
     ]
    },
    {
     "name": "stdout",
     "output_type": "stream",
     "text": [
      "Request ended with: 502 Trying again...\n",
      "Request ended with: 502 Trying again...\n"
     ]
    },
    {
     "name": "stderr",
     "output_type": "stream",
     "text": [
      " 54%|█████▍    | 49/91 [56:59<55:07, 78.76s/it]"
     ]
    },
    {
     "name": "stdout",
     "output_type": "stream",
     "text": [
      "Request ended with: 502 Trying again...\n"
     ]
    },
    {
     "name": "stderr",
     "output_type": "stream",
     "text": [
      " 56%|█████▌    | 51/91 [59:29<51:17, 76.93s/it]"
     ]
    },
    {
     "name": "stdout",
     "output_type": "stream",
     "text": [
      "Request ended with: 502 Trying again...\n",
      "Request ended with: 502 Trying again...\n"
     ]
    },
    {
     "name": "stderr",
     "output_type": "stream",
     "text": [
      " 60%|██████    | 55/91 [1:05:44<53:51, 89.76s/it]"
     ]
    },
    {
     "name": "stdout",
     "output_type": "stream",
     "text": [
      "Request ended with: 502 Trying again...\n",
      "Request ended with: 502 Trying again...\n",
      "Request ended with: 502 Trying again...\n"
     ]
    },
    {
     "name": "stderr",
     "output_type": "stream",
     "text": [
      " 63%|██████▎   | 57/91 [1:08:31<48:44, 86.01s/it]"
     ]
    },
    {
     "name": "stdout",
     "output_type": "stream",
     "text": [
      "Request ended with: 502 Trying again...\n"
     ]
    },
    {
     "name": "stderr",
     "output_type": "stream",
     "text": [
      " 64%|██████▎   | 58/91 [1:09:54<46:43, 84.96s/it]"
     ]
    },
    {
     "name": "stdout",
     "output_type": "stream",
     "text": [
      "Request ended with: 502 Trying again...\n"
     ]
    },
    {
     "name": "stderr",
     "output_type": "stream",
     "text": [
      " 65%|██████▍   | 59/91 [1:11:13<44:22, 83.20s/it]"
     ]
    },
    {
     "name": "stdout",
     "output_type": "stream",
     "text": [
      "Request ended with: 502 Trying again...\n"
     ]
    },
    {
     "name": "stderr",
     "output_type": "stream",
     "text": [
      " 68%|██████▊   | 62/91 [1:15:11<39:14, 81.19s/it]"
     ]
    },
    {
     "name": "stdout",
     "output_type": "stream",
     "text": [
      "Request ended with: 502 Trying again...\n"
     ]
    },
    {
     "name": "stderr",
     "output_type": "stream",
     "text": [
      " 70%|███████   | 64/91 [1:17:49<35:57, 79.92s/it]"
     ]
    },
    {
     "name": "stdout",
     "output_type": "stream",
     "text": [
      "Request ended with: 502 Trying again...\n"
     ]
    },
    {
     "name": "stderr",
     "output_type": "stream",
     "text": [
      " 73%|███████▎  | 66/91 [1:20:24<32:35, 78.20s/it]"
     ]
    },
    {
     "name": "stdout",
     "output_type": "stream",
     "text": [
      "Request ended with: 502 Trying again...\n"
     ]
    },
    {
     "name": "stderr",
     "output_type": "stream",
     "text": [
      " 74%|███████▎  | 67/91 [1:21:48<32:04, 80.21s/it]"
     ]
    },
    {
     "name": "stdout",
     "output_type": "stream",
     "text": [
      "Request ended with: 502 Trying again...\n",
      "Request ended with: 502 Trying again...\n",
      "Request ended with: 502 Trying again...\n"
     ]
    },
    {
     "name": "stderr",
     "output_type": "stream",
     "text": [
      " 75%|███████▍  | 68/91 [1:23:15<31:28, 82.12s/it]"
     ]
    },
    {
     "name": "stdout",
     "output_type": "stream",
     "text": [
      "Request ended with: 502 Trying again...\n",
      "Request ended with: 502 Trying again...\n"
     ]
    },
    {
     "name": "stderr",
     "output_type": "stream",
     "text": [
      " 77%|███████▋  | 70/91 [1:26:08<29:34, 84.51s/it]"
     ]
    },
    {
     "name": "stdout",
     "output_type": "stream",
     "text": [
      "Request ended with: 502 Trying again...\n"
     ]
    },
    {
     "name": "stderr",
     "output_type": "stream",
     "text": [
      " 78%|███████▊  | 71/91 [1:27:38<28:44, 86.22s/it]"
     ]
    },
    {
     "name": "stdout",
     "output_type": "stream",
     "text": [
      "Request ended with: 502 Trying again...\n"
     ]
    },
    {
     "name": "stderr",
     "output_type": "stream",
     "text": [
      " 81%|████████▏ | 74/91 [1:31:34<22:59, 81.15s/it]"
     ]
    },
    {
     "name": "stdout",
     "output_type": "stream",
     "text": [
      "Request ended with: 502 Trying again...\n",
      "Request ended with: 502 Trying again...\n"
     ]
    },
    {
     "name": "stderr",
     "output_type": "stream",
     "text": [
      " 84%|████████▎ | 76/91 [1:34:25<20:50, 83.36s/it]"
     ]
    },
    {
     "name": "stdout",
     "output_type": "stream",
     "text": [
      "Request ended with: 502 Trying again...\n"
     ]
    },
    {
     "name": "stderr",
     "output_type": "stream",
     "text": [
      " 86%|████████▌ | 78/91 [1:37:02<17:31, 80.85s/it]"
     ]
    },
    {
     "name": "stdout",
     "output_type": "stream",
     "text": [
      "Request ended with: 502 Trying again...\n"
     ]
    },
    {
     "name": "stderr",
     "output_type": "stream",
     "text": [
      " 87%|████████▋ | 79/91 [1:38:22<16:07, 80.59s/it]"
     ]
    },
    {
     "name": "stdout",
     "output_type": "stream",
     "text": [
      "Request ended with: 502 Trying again...\n"
     ]
    },
    {
     "name": "stderr",
     "output_type": "stream",
     "text": [
      " 88%|████████▊ | 80/91 [1:39:40<14:36, 79.71s/it]"
     ]
    },
    {
     "name": "stdout",
     "output_type": "stream",
     "text": [
      "Request ended with: 502 Trying again...\n"
     ]
    },
    {
     "name": "stderr",
     "output_type": "stream",
     "text": [
      " 89%|████████▉ | 81/91 [1:40:54<12:59, 77.92s/it]"
     ]
    },
    {
     "name": "stdout",
     "output_type": "stream",
     "text": [
      "Request ended with: 502 Trying again...\n"
     ]
    },
    {
     "name": "stderr",
     "output_type": "stream",
     "text": [
      " 92%|█████████▏| 84/91 [1:44:36<08:45, 75.05s/it]"
     ]
    },
    {
     "name": "stdout",
     "output_type": "stream",
     "text": [
      "Request ended with: 502 Trying again...\n"
     ]
    },
    {
     "name": "stderr",
     "output_type": "stream",
     "text": [
      " 93%|█████████▎| 85/91 [1:45:50<07:27, 74.57s/it]"
     ]
    },
    {
     "name": "stdout",
     "output_type": "stream",
     "text": [
      "Request ended with: 502 Trying again...\n"
     ]
    },
    {
     "name": "stderr",
     "output_type": "stream",
     "text": [
      " 95%|█████████▍| 86/91 [1:47:06<06:14, 74.98s/it]"
     ]
    },
    {
     "name": "stdout",
     "output_type": "stream",
     "text": [
      "Request ended with: 502 Trying again...\n"
     ]
    },
    {
     "name": "stderr",
     "output_type": "stream",
     "text": [
      " 97%|█████████▋| 88/91 [1:49:33<03:42, 74.05s/it]"
     ]
    },
    {
     "name": "stdout",
     "output_type": "stream",
     "text": [
      "Request ended with: 502 Trying again...\n",
      "Request ended with: 502 Trying again...\n"
     ]
    },
    {
     "name": "stderr",
     "output_type": "stream",
     "text": [
      "100%|██████████| 91/91 [1:53:14<00:00, 74.66s/it]\n"
     ]
    }
   ],
   "source": [
    "# Download daily precipitation for multiple stations\n",
    "url = 'https://snia.mop.gob.cl/BNAConsultas/reportes'\n",
    "ids     = np.arange(181,630,5)\n",
    "ids     = np.hstack([177, ids])\n",
    "# ids = [186, 211, 296, 366, 466, 556, 196, 216, 351, 386, 491, 566]\n",
    "years   = np.arange(1910, 2025,3)\n",
    "\n",
    "\n",
    "variable = 'PrecipitacionesDiarias'\n",
    "fpreffix = 'Precip24h' \n",
    "errors   = []\n",
    "corrupts = []\n",
    "region = 7\n",
    "for j,id in tqdm.tqdm(enumerate(ids), total=len(ids)):\n",
    "    for k,yr in enumerate(years):\n",
    "        ofile = f'tmp/{fpreffix}_{region}Region_idt{id}_{yr}.xls'\n",
    "        if os.path.isfile(ofile):\n",
    "            pass\n",
    "        else:\n",
    "            ndata = ds_data.copy()\n",
    "            ndata = ndata.rename({'XXX':f'filtroscirhform:j_idt{id}'})\n",
    "            ndata['filtroscirhform:region'] = region\n",
    "            ndata['filtroscirhform:fechaDesdeInputDate'] = f'01/01/{yr}'\n",
    "            ndata['filtroscirhform:fechaHastaInputDate'] = f'31/12/{yr+3}'\n",
    "            ndata = dict(ndata)\n",
    "            try:\n",
    "                value = DGA_makerequest(ofile, url, cookies, headers, ndata)\n",
    "                if value == False:\n",
    "                    corrupts.append((region, id, yr))\n",
    "            except Exception as e:\n",
    "                print('ERROR:', e)\n",
    "                errors.append((region, id, yr))"
   ]
  }
 ],
 "metadata": {
  "kernelspec": {
   "display_name": "river",
   "language": "python",
   "name": "python3"
  },
  "language_info": {
   "codemirror_mode": {
    "name": "ipython",
    "version": 3
   },
   "file_extension": ".py",
   "mimetype": "text/x-python",
   "name": "python",
   "nbconvert_exporter": "python",
   "pygments_lexer": "ipython3",
   "version": "3.12.3"
  }
 },
 "nbformat": 4,
 "nbformat_minor": 2
}
