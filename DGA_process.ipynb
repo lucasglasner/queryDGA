{
 "cells": [
  {
   "cell_type": "code",
   "execution_count": 1,
   "metadata": {},
   "outputs": [],
   "source": [
    "import os\n",
    "import sys\n",
    "import pandas as pd\n",
    "import tqdm\n",
    "import numpy as np\n",
    "from glob import glob\n",
    "\n",
    "from process import *"
   ]
  },
  {
   "cell_type": "code",
   "execution_count": 3,
   "metadata": {},
   "outputs": [
    {
     "name": "stderr",
     "output_type": "stream",
     "text": [
      " 99%|█████████▊| 995/1010 [07:48<00:07,  2.12it/s]\n"
     ]
    },
    {
     "ename": "ValueError",
     "evalue": "No objects to concatenate",
     "output_type": "error",
     "traceback": [
      "\u001b[0;31m---------------------------------------------------------------------------\u001b[0m",
      "\u001b[0;31mValueError\u001b[0m                                Traceback (most recent call last)",
      "Cell \u001b[0;32mIn[3], line 10\u001b[0m\n\u001b[1;32m      8\u001b[0m \u001b[38;5;28;01mfor\u001b[39;00m p \u001b[38;5;129;01min\u001b[39;00m tqdm\u001b[38;5;241m.\u001b[39mtqdm(raw_paths, total\u001b[38;5;241m=\u001b[39m\u001b[38;5;28mlen\u001b[39m(raw_paths)):\n\u001b[1;32m      9\u001b[0m     df \u001b[38;5;241m=\u001b[39m pd\u001b[38;5;241m.\u001b[39mread_excel(p)\n\u001b[0;32m---> 10\u001b[0m     ts, mdata \u001b[38;5;241m=\u001b[39m \u001b[43mprocess_DGAtable\u001b[49m\u001b[43m(\u001b[49m\u001b[43mdf\u001b[49m\u001b[43m,\u001b[49m\u001b[43m \u001b[49m\u001b[43mvariable\u001b[49m\u001b[43m)\u001b[49m\n\u001b[1;32m     11\u001b[0m     data\u001b[38;5;241m.\u001b[39mappend(ts)\n\u001b[1;32m     12\u001b[0m     names\u001b[38;5;241m.\u001b[39mappend(ts\u001b[38;5;241m.\u001b[39mname)\n",
      "Cell \u001b[0;32mIn[2], line 106\u001b[0m, in \u001b[0;36mprocess_DGAtable\u001b[0;34m(DGA_excel, vtype)\u001b[0m\n\u001b[1;32m    104\u001b[0m     data, metadata \u001b[38;5;241m=\u001b[39m process_DGA_PrMaxTable(DGA_excel)\n\u001b[1;32m    105\u001b[0m \u001b[38;5;28;01melif\u001b[39;00m vtype\u001b[38;5;241m==\u001b[39m\u001b[38;5;124m'\u001b[39m\u001b[38;5;124mPrecipitacionesDiarias\u001b[39m\u001b[38;5;124m'\u001b[39m:\n\u001b[0;32m--> 106\u001b[0m     data, metadata \u001b[38;5;241m=\u001b[39m \u001b[43mprocess_DGA_Pr24hTable\u001b[49m\u001b[43m(\u001b[49m\u001b[43mDGA_excel\u001b[49m\u001b[43m)\u001b[49m\n\u001b[1;32m    107\u001b[0m \u001b[38;5;28;01melse\u001b[39;00m:\n\u001b[1;32m    108\u001b[0m     \u001b[38;5;28;01mraise\u001b[39;00m \u001b[38;5;167;01mValueError\u001b[39;00m(\u001b[38;5;124mf\u001b[39m\u001b[38;5;124m'\u001b[39m\u001b[38;5;132;01m{\u001b[39;00mvtype\u001b[38;5;132;01m}\u001b[39;00m\u001b[38;5;124m Variable desconocida!\u001b[39m\u001b[38;5;124m'\u001b[39m)\n",
      "Cell \u001b[0;32mIn[2], line 92\u001b[0m, in \u001b[0;36mprocess_DGA_Pr24hTable\u001b[0;34m(DGA_excel)\u001b[0m\n\u001b[1;32m     90\u001b[0m     x \u001b[38;5;241m=\u001b[39m pd\u001b[38;5;241m.\u001b[39mSeries(x\u001b[38;5;241m.\u001b[39mvalues\u001b[38;5;241m.\u001b[39mflatten(), index\u001b[38;5;241m=\u001b[39mtimestamp)\n\u001b[1;32m     91\u001b[0m     ndata\u001b[38;5;241m.\u001b[39mappend(x)\n\u001b[0;32m---> 92\u001b[0m ndata \u001b[38;5;241m=\u001b[39m \u001b[43mpd\u001b[49m\u001b[38;5;241;43m.\u001b[39;49m\u001b[43mconcat\u001b[49m\u001b[43m(\u001b[49m\u001b[43mndata\u001b[49m\u001b[43m)\u001b[49m\n\u001b[1;32m     93\u001b[0m ndata \u001b[38;5;241m=\u001b[39m ndata\u001b[38;5;241m.\u001b[39mdropna()\n\u001b[1;32m     94\u001b[0m ndata \u001b[38;5;241m=\u001b[39m ndata\u001b[38;5;241m.\u001b[39mloc[ndata\u001b[38;5;241m.\u001b[39mindex\u001b[38;5;241m.\u001b[39mnotnull()]\n",
      "File \u001b[0;32m~/miniconda3/envs/river/lib/python3.11/site-packages/pandas/core/reshape/concat.py:380\u001b[0m, in \u001b[0;36mconcat\u001b[0;34m(objs, axis, join, ignore_index, keys, levels, names, verify_integrity, sort, copy)\u001b[0m\n\u001b[1;32m    377\u001b[0m \u001b[38;5;28;01melif\u001b[39;00m copy \u001b[38;5;129;01mand\u001b[39;00m using_copy_on_write():\n\u001b[1;32m    378\u001b[0m     copy \u001b[38;5;241m=\u001b[39m \u001b[38;5;28;01mFalse\u001b[39;00m\n\u001b[0;32m--> 380\u001b[0m op \u001b[38;5;241m=\u001b[39m \u001b[43m_Concatenator\u001b[49m\u001b[43m(\u001b[49m\n\u001b[1;32m    381\u001b[0m \u001b[43m    \u001b[49m\u001b[43mobjs\u001b[49m\u001b[43m,\u001b[49m\n\u001b[1;32m    382\u001b[0m \u001b[43m    \u001b[49m\u001b[43maxis\u001b[49m\u001b[38;5;241;43m=\u001b[39;49m\u001b[43maxis\u001b[49m\u001b[43m,\u001b[49m\n\u001b[1;32m    383\u001b[0m \u001b[43m    \u001b[49m\u001b[43mignore_index\u001b[49m\u001b[38;5;241;43m=\u001b[39;49m\u001b[43mignore_index\u001b[49m\u001b[43m,\u001b[49m\n\u001b[1;32m    384\u001b[0m \u001b[43m    \u001b[49m\u001b[43mjoin\u001b[49m\u001b[38;5;241;43m=\u001b[39;49m\u001b[43mjoin\u001b[49m\u001b[43m,\u001b[49m\n\u001b[1;32m    385\u001b[0m \u001b[43m    \u001b[49m\u001b[43mkeys\u001b[49m\u001b[38;5;241;43m=\u001b[39;49m\u001b[43mkeys\u001b[49m\u001b[43m,\u001b[49m\n\u001b[1;32m    386\u001b[0m \u001b[43m    \u001b[49m\u001b[43mlevels\u001b[49m\u001b[38;5;241;43m=\u001b[39;49m\u001b[43mlevels\u001b[49m\u001b[43m,\u001b[49m\n\u001b[1;32m    387\u001b[0m \u001b[43m    \u001b[49m\u001b[43mnames\u001b[49m\u001b[38;5;241;43m=\u001b[39;49m\u001b[43mnames\u001b[49m\u001b[43m,\u001b[49m\n\u001b[1;32m    388\u001b[0m \u001b[43m    \u001b[49m\u001b[43mverify_integrity\u001b[49m\u001b[38;5;241;43m=\u001b[39;49m\u001b[43mverify_integrity\u001b[49m\u001b[43m,\u001b[49m\n\u001b[1;32m    389\u001b[0m \u001b[43m    \u001b[49m\u001b[43mcopy\u001b[49m\u001b[38;5;241;43m=\u001b[39;49m\u001b[43mcopy\u001b[49m\u001b[43m,\u001b[49m\n\u001b[1;32m    390\u001b[0m \u001b[43m    \u001b[49m\u001b[43msort\u001b[49m\u001b[38;5;241;43m=\u001b[39;49m\u001b[43msort\u001b[49m\u001b[43m,\u001b[49m\n\u001b[1;32m    391\u001b[0m \u001b[43m\u001b[49m\u001b[43m)\u001b[49m\n\u001b[1;32m    393\u001b[0m \u001b[38;5;28;01mreturn\u001b[39;00m op\u001b[38;5;241m.\u001b[39mget_result()\n",
      "File \u001b[0;32m~/miniconda3/envs/river/lib/python3.11/site-packages/pandas/core/reshape/concat.py:443\u001b[0m, in \u001b[0;36m_Concatenator.__init__\u001b[0;34m(self, objs, axis, join, keys, levels, names, ignore_index, verify_integrity, copy, sort)\u001b[0m\n\u001b[1;32m    440\u001b[0m \u001b[38;5;28mself\u001b[39m\u001b[38;5;241m.\u001b[39mverify_integrity \u001b[38;5;241m=\u001b[39m verify_integrity\n\u001b[1;32m    441\u001b[0m \u001b[38;5;28mself\u001b[39m\u001b[38;5;241m.\u001b[39mcopy \u001b[38;5;241m=\u001b[39m copy\n\u001b[0;32m--> 443\u001b[0m objs, keys \u001b[38;5;241m=\u001b[39m \u001b[38;5;28;43mself\u001b[39;49m\u001b[38;5;241;43m.\u001b[39;49m\u001b[43m_clean_keys_and_objs\u001b[49m\u001b[43m(\u001b[49m\u001b[43mobjs\u001b[49m\u001b[43m,\u001b[49m\u001b[43m \u001b[49m\u001b[43mkeys\u001b[49m\u001b[43m)\u001b[49m\n\u001b[1;32m    445\u001b[0m \u001b[38;5;66;03m# figure out what our result ndim is going to be\u001b[39;00m\n\u001b[1;32m    446\u001b[0m ndims \u001b[38;5;241m=\u001b[39m \u001b[38;5;28mself\u001b[39m\u001b[38;5;241m.\u001b[39m_get_ndims(objs)\n",
      "File \u001b[0;32m~/miniconda3/envs/river/lib/python3.11/site-packages/pandas/core/reshape/concat.py:505\u001b[0m, in \u001b[0;36m_Concatenator._clean_keys_and_objs\u001b[0;34m(self, objs, keys)\u001b[0m\n\u001b[1;32m    502\u001b[0m     objs_list \u001b[38;5;241m=\u001b[39m \u001b[38;5;28mlist\u001b[39m(objs)\n\u001b[1;32m    504\u001b[0m \u001b[38;5;28;01mif\u001b[39;00m \u001b[38;5;28mlen\u001b[39m(objs_list) \u001b[38;5;241m==\u001b[39m \u001b[38;5;241m0\u001b[39m:\n\u001b[0;32m--> 505\u001b[0m     \u001b[38;5;28;01mraise\u001b[39;00m \u001b[38;5;167;01mValueError\u001b[39;00m(\u001b[38;5;124m\"\u001b[39m\u001b[38;5;124mNo objects to concatenate\u001b[39m\u001b[38;5;124m\"\u001b[39m)\n\u001b[1;32m    507\u001b[0m \u001b[38;5;28;01mif\u001b[39;00m keys \u001b[38;5;129;01mis\u001b[39;00m \u001b[38;5;28;01mNone\u001b[39;00m:\n\u001b[1;32m    508\u001b[0m     objs_list \u001b[38;5;241m=\u001b[39m \u001b[38;5;28mlist\u001b[39m(com\u001b[38;5;241m.\u001b[39mnot_none(\u001b[38;5;241m*\u001b[39mobjs_list))\n",
      "\u001b[0;31mValueError\u001b[0m: No objects to concatenate"
     ]
    }
   ],
   "source": [
    "variable  = 'PrecipitacionesDiarias'\n",
    "region    = 4\n",
    "raw_paths = glob(f'tmp/{variable}/{region}/*.xls')\n",
    "# raw_paths = glob(f'/home/lucas/PROYECTOS/En Proceso/A032445-Kimal Lo Aguirre 2/3_Aplicabilidad_PAS_156_Torres/2_Hidrologia/Datos Estaciones/Caudales/Rio Illapel en el Peral/*.xls')\n",
    "data     = []\n",
    "metadata = []\n",
    "names    = []\n",
    "for p in tqdm.tqdm(raw_paths, total=len(raw_paths)):\n",
    "    df = pd.read_excel(p)\n",
    "    ts, mdata = process_DGAtable(df, variable)\n",
    "    data.append(ts)\n",
    "    names.append(ts.name)\n",
    "    metadata.append(mdata)\n",
    "# data = pd.concat(data, keys=names).drop_duplicates().unstack().T.sort_index()\n",
    "# metadata = pd.concat(metadata, axis=1)\n",
    "# metadata = metadata.loc[:,~metadata.columns.duplicated()].copy().T\n",
    "\n",
    "# metadata.to_csv(f'data/{variable}/{region}-Region_MetadataEstaciones.csv')\n",
    "# data.to_csv(f'data/{variable}/{region}-Region_{variable}.csv')"
   ]
  },
  {
   "cell_type": "markdown",
   "metadata": {},
   "source": [
    "---"
   ]
  },
  {
   "cell_type": "code",
   "execution_count": 5,
   "metadata": {},
   "outputs": [
    {
     "name": "stderr",
     "output_type": "stream",
     "text": [
      "  0%|          | 0/133 [00:00<?, ?it/s]"
     ]
    },
    {
     "name": "stderr",
     "output_type": "stream",
     "text": [
      "100%|██████████| 133/133 [00:19<00:00,  6.83it/s]\n"
     ]
    }
   ],
   "source": [
    "variable  = 'AlturayCaudalInstantaneo'\n",
    "region    = 7\n",
    "raw_paths = glob(f'tmp/{variable}/{region}/*.xls')\n",
    "# raw_paths = glob(f'/home/lucas/PROYECTOS/En Proceso/A032445-Kimal Lo Aguirre 2/3_Aplicabilidad_PAS_156_Torres/2_Hidrologia/Datos Estaciones/Caudales/Rio Illapel en el Peral/*.xls')\n",
    "data     = []\n",
    "metadata = []\n",
    "names    = []\n",
    "for p in tqdm.tqdm(raw_paths, total=len(raw_paths)):\n",
    "    df = pd.read_excel(p)\n",
    "    ts, mdata = process_DGAtable(df, variable)\n",
    "    data.append(ts['q_m3s'])\n",
    "    names.append(ts.name)\n",
    "    metadata.append(mdata)\n",
    "data = pd.concat(data, keys=names).drop_duplicates().unstack().T.sort_index()\n",
    "metadata = pd.concat(metadata, axis=1)\n",
    "metadata = metadata.loc[:,~metadata.columns.duplicated()].copy().T\n",
    "\n",
    "# metadata.to_csv(f'data/{variable}/{region}-Region_MetadataEstaciones.csv')\n",
    "# data.to_csv(f'data/{variable}/{region}-Region_{variable}.csv')"
   ]
  },
  {
   "cell_type": "code",
   "execution_count": 19,
   "metadata": {},
   "outputs": [
    {
     "name": "stderr",
     "output_type": "stream",
     "text": [
      "  0%|          | 0/72 [00:00<?, ?it/s]"
     ]
    },
    {
     "name": "stderr",
     "output_type": "stream",
     "text": [
      "100%|██████████| 72/72 [00:03<00:00, 22.06it/s]\n"
     ]
    }
   ],
   "source": [
    "variable = 'PrecipitacionesMaximasEn24Horas'\n",
    "# region   = 2\n",
    "region = 12\n",
    "raw_paths = glob(f'tmp/{variable}/{region}/*.xls')\n",
    "data     = []\n",
    "metadata = []\n",
    "for p in tqdm.tqdm(raw_paths, total=len(raw_paths)):\n",
    "    df = pd.read_excel(p)\n",
    "    ts, mdata = process_DGAtable(df, variable)\n",
    "    ts.index = ts.index.year\n",
    "    data.append(ts)\n",
    "    metadata.append(mdata)\n",
    "    # del df, ts, mdata\n",
    "data = pd.concat(data, axis=1)\n",
    "metadata = pd.concat(metadata, axis=1)\n",
    "metadata = metadata.loc[:,~metadata.columns.duplicated()].copy()\n",
    "\n",
    "ncols    = []\n",
    "mult_st  = []\n",
    "for st in metadata.columns:\n",
    "    x = data[st].dropna(how='all')\n",
    "    if len(pd.DataFrame(x).columns)>1:\n",
    "        ncol = [x.iloc[:,i].dropna() for i in range(len(x.columns))]\n",
    "        ncols.append(pd.concat(ncol,axis=0).drop_duplicates())\n",
    "        mult_st.append(st)\n",
    "        del ncol\n",
    "    del x\n",
    "ncols = pd.concat(ncols, axis=1).reindex(data.index)\n",
    "data  = pd.concat([data.drop(mult_st, axis=1), ncols], axis=1).sort_index()\n",
    "metadata.T.to_csv(f'data/{variable}/{region}-Region_MetadataEstaciones.csv')\n",
    "data.to_csv(f'data/{variable}/{region}-Region_{variable}.csv')"
   ]
  },
  {
   "cell_type": "code",
   "execution_count": 22,
   "metadata": {},
   "outputs": [],
   "source": [
    "def transform_coordinates(x):\n",
    "    coord  = x.split(' ')\n",
    "    num    = float(coord[0].replace('°',''))\n",
    "    minute = float(coord[1].replace(\"'\",\"\"))/60\n",
    "    second = float(coord[2].replace(\"''\",\"\"))/60/60\n",
    "    return -(num+minute+second)"
   ]
  },
  {
   "cell_type": "code",
   "execution_count": 26,
   "metadata": {},
   "outputs": [],
   "source": [
    "import geopandas as gpd\n",
    "variable = 'PrecipitacionesMaximasEn24Horas'\n",
    "metadata_paths = glob(f'data/{variable}/*Metadata*.csv')\n",
    "data_paths     = glob(f'data/{variable}/*{variable}*.csv')\n",
    "\n",
    "metadata = [pd.read_csv(m, index_col=0) for m in metadata_paths]\n",
    "metadata = pd.concat(metadata, axis=0).drop_duplicates()\n",
    "metadata['lon'] = metadata['lon'].map(lambda x: transform_coordinates(x))\n",
    "metadata['lat'] = metadata['lat'].map(lambda x: transform_coordinates(x))\n",
    "metadata = metadata[metadata.Cuenca != 'ISLAS DEL PACIFICO']\n",
    "\n",
    "data = [pd.read_csv(m, index_col=0, parse_dates=False) for m in data_paths]\n",
    "data = pd.concat(data, axis=1)\n",
    "data = data[metadata.index]\n",
    "\n",
    "metadata_shape = gpd.GeoDataFrame(geometry=gpd.points_from_xy(metadata.lon, metadata.lat),\n",
    "                                  crs='epsg:4326').to_crs('epsg:32719')\n",
    "metadata_shape.index = metadata.index\n",
    "\n",
    "metadata['x'] = metadata_shape.geometry.x\n",
    "metadata['y'] = metadata_shape.geometry.y\n",
    "metadata_shape = pd.concat([metadata,metadata_shape], axis=1).set_geometry('geometry')\n",
    "\n",
    "data.to_csv(f'data/DATA_{variable}.csv')\n",
    "metadata.to_csv(f'data/MetadataEstaciones_{variable}.csv')\n",
    "metadata_shape.to_file(f'data/MetadataEstaciones_{variable}.gpkg')"
   ]
  }
 ],
 "metadata": {
  "kernelspec": {
   "display_name": "river",
   "language": "python",
   "name": "python3"
  },
  "language_info": {
   "codemirror_mode": {
    "name": "ipython",
    "version": 3
   },
   "file_extension": ".py",
   "mimetype": "text/x-python",
   "name": "python",
   "nbconvert_exporter": "python",
   "pygments_lexer": "ipython3",
   "version": "3.11.7"
  }
 },
 "nbformat": 4,
 "nbformat_minor": 2
}
